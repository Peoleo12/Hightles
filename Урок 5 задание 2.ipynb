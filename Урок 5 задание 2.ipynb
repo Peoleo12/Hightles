{
  "metadata": {
    "language_info": {
      "codemirror_mode": {
        "name": "python",
        "version": 3
      },
      "file_extension": ".py",
      "mimetype": "text/x-python",
      "name": "python",
      "nbconvert_exporter": "python",
      "pygments_lexer": "ipython3",
      "version": "3.8"
    },
    "kernelspec": {
      "name": "python",
      "display_name": "Python (Pyodide)",
      "language": "python"
    }
  },
  "nbformat_minor": 4,
  "nbformat": 4,
  "cells": [
    {
      "cell_type": "code",
      "source": "import numpy as np",
      "metadata": {
        "trusted": true
      },
      "execution_count": 2,
      "outputs": []
    },
    {
      "cell_type": "code",
      "source": "k = 0\nm = 0\npk = 0.5\npm = 0.5\nfor i in range(1):\n    np.random.uniform(0, 10)\n    if i > 5:\n        k += 1\n    else:\n        m += 1\nif (pk + pm) == k or (pk + pm) == m:\n    print('oрел или решка')",
      "metadata": {
        "trusted": true
      },
      "execution_count": 4,
      "outputs": [
        {
          "name": "stdout",
          "text": "oрел или решка\n",
          "output_type": "stream"
        }
      ]
    },
    {
      "cell_type": "code",
      "source": "x0 = np.random.randn(10)\nx1 = np.random.randn(10)\nx2 = np.random.randn(10)\nx3 = np.random.randn(10)\nx4 = np.random.randn(10)\nx5 = np.random.randn(10)\nx6 = np.random.randn(10)\nx7 = np.random.randn(10)\nx8 = np.random.randn(10)\nx9 = np.random.randn(10)\nx_sum = x0 + x1 + x2 + x3 + x4 + x5 + x6 + x7 + x8 + x9\nx_sum",
      "metadata": {
        "trusted": true
      },
      "execution_count": 5,
      "outputs": [
        {
          "execution_count": 5,
          "output_type": "execute_result",
          "data": {
            "text/plain": "array([ 6.88728586, -0.65369735,  2.44386763,  1.84994615, -5.37269732,\n       -1.20392955, -1.33088256,  0.6210349 , -0.71370747,  2.85513768])"
          },
          "metadata": {}
        }
      ]
    },
    {
      "cell_type": "code",
      "source": "",
      "metadata": {},
      "execution_count": null,
      "outputs": []
    }
  ]
}