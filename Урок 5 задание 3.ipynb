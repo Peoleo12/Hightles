{
  "metadata": {
    "language_info": {
      "codemirror_mode": {
        "name": "python",
        "version": 3
      },
      "file_extension": ".py",
      "mimetype": "text/x-python",
      "name": "python",
      "nbconvert_exporter": "python",
      "pygments_lexer": "ipython3",
      "version": "3.8"
    },
    "kernelspec": {
      "name": "python",
      "display_name": "Python (Pyodide)",
      "language": "python"
    }
  },
  "nbformat_minor": 4,
  "nbformat": 4,
  "cells": [
    {
      "cell_type": "code",
      "source": "import numpy as np",
      "metadata": {
        "trusted": true
      },
      "execution_count": 2,
      "outputs": []
    },
    {
      "cell_type": "code",
      "source": "P = 6 / 2**4\nP",
      "metadata": {
        "trusted": true
      },
      "execution_count": 10,
      "outputs": [
        {
          "execution_count": 10,
          "output_type": "execute_result",
          "data": {
            "text/plain": "0.375"
          },
          "metadata": {}
        }
      ]
    },
    {
      "cell_type": "code",
      "source": "k = 0\nn = 1000\na = np.random.randint(0, 2, n)\nb = np.random.randint(0, 2, n)\nc = np.random.randint(0, 2, n)\nd = np.random.randint(0, 2, n)\nx = a + b + c + d\nfor i in range(0, n):\n    if x[i] == 2:\n        k = k + 1\nprint(k, n, k/n)",
      "metadata": {
        "trusted": true
      },
      "execution_count": 11,
      "outputs": [
        {
          "name": "stdout",
          "text": "388 1000 0.388\n",
          "output_type": "stream"
        }
      ]
    },
    {
      "cell_type": "code",
      "source": "k = 2\nn = 2000\na = np.random.randint(0, 2, n)\nb = np.random.randint(0, 2, n)\nc = np.random.randint(0, 2, n)\nd = np.random.randint(0, 2, n)\ne = np.random.randint(0, 2, n)\nx = a + b + c + d + e\nfor i in range(0, n):\n    if x[i] == 3:\n        k = k + 1\nprint(k, n, k/n)",
      "metadata": {
        "trusted": true
      },
      "execution_count": 13,
      "outputs": [
        {
          "name": "stdout",
          "text": "658 2000 0.329\n",
          "output_type": "stream"
        }
      ]
    },
    {
      "cell_type": "code",
      "source": "",
      "metadata": {},
      "execution_count": null,
      "outputs": []
    }
  ]
}