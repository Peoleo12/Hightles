{
  "metadata": {
    "language_info": {
      "codemirror_mode": {
        "name": "python",
        "version": 3
      },
      "file_extension": ".py",
      "mimetype": "text/x-python",
      "name": "python",
      "nbconvert_exporter": "python",
      "pygments_lexer": "ipython3",
      "version": "3.8"
    },
    "kernelspec": {
      "name": "python",
      "display_name": "Python (Pyodide)",
      "language": "python"
    }
  },
  "nbformat_minor": 4,
  "nbformat": 4,
  "cells": [
    {
      "cell_type": "code",
      "source": "import numpy as np",
      "metadata": {
        "trusted": true
      },
      "execution_count": 1,
      "outputs": []
    },
    {
      "cell_type": "code",
      "source": "A = np.array([[1, 2, -1], [3, -4, 0], [8, -5, 2], [2, 0, -5], [11, 4, -7]], float)\nb = np.array([1, 7, 12, 7, 15], float)",
      "metadata": {
        "trusted": true
      },
      "execution_count": 46,
      "outputs": []
    },
    {
      "cell_type": "code",
      "source": "print(A)",
      "metadata": {
        "trusted": true
      },
      "execution_count": 47,
      "outputs": [
        {
          "name": "stdout",
          "text": "[[ 1.  2. -1.]\n [ 3. -4.  0.]\n [ 8. -5.  2.]\n [ 2.  0. -5.]\n [11.  4. -7.]]\n",
          "output_type": "stream"
        }
      ]
    },
    {
      "cell_type": "code",
      "source": "print(b)",
      "metadata": {
        "trusted": true
      },
      "execution_count": 48,
      "outputs": [
        {
          "name": "stdout",
          "text": "[ 1.  7. 12.  7. 15.]\n",
          "output_type": "stream"
        }
      ]
    },
    {
      "cell_type": "code",
      "source": "X = np.linalg.lstsq(A, b, rcond=None)[0]",
      "metadata": {
        "trusted": true
      },
      "execution_count": 49,
      "outputs": []
    },
    {
      "cell_type": "code",
      "source": "print(X)",
      "metadata": {
        "trusted": true
      },
      "execution_count": 50,
      "outputs": [
        {
          "name": "stdout",
          "text": "[ 1.13919353 -0.90498444 -0.9009803 ]\n",
          "output_type": "stream"
        }
      ]
    },
    {
      "cell_type": "code",
      "source": "print(np.dot(A, X))",
      "metadata": {
        "trusted": true
      },
      "execution_count": 51,
      "outputs": [
        {
          "name": "stdout",
          "text": "[ 0.23020495  7.03751834 11.83650981  6.78328855 15.21805313]\n",
          "output_type": "stream"
        }
      ]
    }
  ]
}